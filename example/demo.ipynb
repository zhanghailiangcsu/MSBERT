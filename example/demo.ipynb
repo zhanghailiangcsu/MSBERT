{
 "cells": [
  {
   "cell_type": "markdown",
   "id": "946c882b",
   "metadata": {},
   "source": [
    "# Import necessary packages"
   ]
  },
  {
   "cell_type": "code",
   "execution_count": 1,
   "id": "373d1965",
   "metadata": {},
   "outputs": [
    {
     "name": "stderr",
     "output_type": "stream",
     "text": [
      "C:\\Users\\Administrator\\Anaconda3\\envs\\FDNet\\lib\\site-packages\\tqdm\\auto.py:22: TqdmWarning: IProgress not found. Please update jupyter and ipywidgets. See https://ipywidgets.readthedocs.io/en/stable/user_install.html\n",
      "  from .autonotebook import tqdm as notebook_tqdm\n"
     ]
    }
   ],
   "source": [
    "import os\n",
    "os.chdir('E:/github/MSBERT')\n",
    "os.environ['KMP_DUPLICATE_LIB_OK']='True'\n",
    "import pickle\n",
    "import torch\n",
    "import matplotlib.pyplot as plt\n",
    "from data.ProcessData import MakeTrainData\n",
    "from model.MSBERTModel import MSBERT\n",
    "from model.utils import ModelEmbed, ProcessMSP,MSBERTSimilarity"
   ]
  },
  {
   "cell_type": "code",
   "execution_count": 2,
   "id": "ca7f96cd",
   "metadata": {},
   "outputs": [],
   "source": [
    "def PlotExample(example_msms,idx):\n",
    "    plt.figure()\n",
    "    plt.vlines([float(i) for i in example_msms[idx][0]],0,example_msms[idx][1])\n",
    "    plt.hlines(0,0,max([float(i) for i in example_msms[idx][0]]))\n",
    "    plt.xlabel('m/z')\n",
    "    plt.ylabel('Intensity')"
   ]
  },
  {
   "cell_type": "markdown",
   "id": "71a36c5b",
   "metadata": {},
   "source": [
    "# Load example data"
   ]
  },
  {
   "cell_type": "code",
   "execution_count": 3,
   "id": "554143ee",
   "metadata": {},
   "outputs": [
    {
     "name": "stderr",
     "output_type": "stream",
     "text": [
      "100%|████████████████████████████████████████████████████████████████████████████████| 21/21 [00:00<00:00, 6987.18it/s]\n"
     ]
    }
   ],
   "source": [
    "demo_file = 'example/demo.msp'\n",
    "demo_data,demo_smiles = ProcessMSP(demo_file)"
   ]
  },
  {
   "cell_type": "code",
   "execution_count": 4,
   "id": "d00cb8d7",
   "metadata": {},
   "outputs": [
    {
     "data": {
      "image/png": "[encoded data removed]",
      "text/plain": [
       "<Figure size 432x288 with 1 Axes>"
      ]
     },
     "metadata": {
      "needs_background": "light"
     },
     "output_type": "display_data"
    }
   ],
   "source": [
    " PlotExample(demo_data,0)"
   ]
  },
  {
   "cell_type": "code",
   "execution_count": 5,
   "id": "a8e08ec7",
   "metadata": {},
   "outputs": [
    {
     "data": {
      "image/png": "[encoded data removed]",
      "text/plain": [
       "<Figure size 432x288 with 1 Axes>"
      ]
     },
     "metadata": {
      "needs_background": "light"
     },
     "output_type": "display_data"
    }
   ],
   "source": [
    "PlotExample(demo_data,1)"
   ]
  },
  {
   "cell_type": "markdown",
   "id": "90bd28ae",
   "metadata": {},
   "source": [
    "# Load MSBERT model"
   ]
  },
  {
   "cell_type": "code",
   "execution_count": 7,
   "id": "ca300000",
   "metadata": {},
   "outputs": [
    {
     "data": {
      "text/plain": [
       "<All keys matched successfully>"
      ]
     },
     "execution_count": 7,
     "metadata": {},
     "output_type": "execute_result"
    }
   ],
   "source": [
    "model_file = 'model/MSBERT.pkl'\n",
    "model = MSBERT(100002, 512, 6, 16, 0,100,3)\n",
    "model.load_state_dict(torch.load(model_file))"
   ]
  },
  {
   "cell_type": "markdown",
   "id": "acd3f03d",
   "metadata": {},
   "source": [
    "# MSBERT embedding"
   ]
  },
  {
   "cell_type": "code",
   "execution_count": 8,
   "id": "78f38775",
   "metadata": {},
   "outputs": [
    {
     "name": "stderr",
     "output_type": "stream",
     "text": [
      "2it [00:01,  1.22it/s]\n"
     ]
    }
   ],
   "source": [
    "demo_arr = ModelEmbed(model,demo_data,16)"
   ]
  },
  {
   "cell_type": "markdown",
   "id": "36a3f3fc",
   "metadata": {},
   "source": [
    "# Calculate cosine similarity"
   ]
  },
  {
   "cell_type": "code",
   "execution_count": 10,
   "id": "0ab87fae",
   "metadata": {},
   "outputs": [
    {
     "name": "stdout",
     "output_type": "stream",
     "text": [
      "(21, 21)\n"
     ]
    }
   ],
   "source": [
    "cos = MSBERTSimilarity(demo_arr,demo_arr)\n",
    "print(cos.shape)"
   ]
  },
  {
   "cell_type": "code",
   "execution_count": null,
   "id": "45637f4b",
   "metadata": {},
   "outputs": [],
   "source": []
  }
 ],
 "metadata": {
  "kernelspec": {
   "display_name": "Python 3 (ipykernel)",
   "language": "python",
   "name": "python3"
  },
  "language_info": {
   "codemirror_mode": {
    "name": "ipython",
    "version": 3
   },
   "file_extension": ".py",
   "mimetype": "text/x-python",
   "name": "python",
   "nbconvert_exporter": "python",
   "pygments_lexer": "ipython3",
   "version": "3.9.12"
  }
 },
 "nbformat": 4,
 "nbformat_minor": 5
}
