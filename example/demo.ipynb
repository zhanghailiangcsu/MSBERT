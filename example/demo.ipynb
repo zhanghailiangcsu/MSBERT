{
 "cells": [
  {
   "cell_type": "markdown",
   "id": "1b668290",
   "metadata": {},
   "source": [
    "# Import necessary packages"
   ]
  },
  {
   "cell_type": "code",
   "execution_count": 1,
   "id": "8b57d591",
   "metadata": {},
   "outputs": [
    {
     "name": "stderr",
     "output_type": "stream",
     "text": [
      "C:\\Users\\Administrator\\Anaconda3\\envs\\FDNet\\lib\\site-packages\\tqdm\\auto.py:22: TqdmWarning: IProgress not found. Please update jupyter and ipywidgets. See https://ipywidgets.readthedocs.io/en/stable/user_install.html\n",
      "  from .autonotebook import tqdm as notebook_tqdm\n"
     ]
    }
   ],
   "source": [
    "import os\n",
    "os.chdir('E:/github/MSBERT')\n",
    "import pickle\n",
    "import torch\n",
    "import matplotlib.pyplot as plt\n",
    "from data.ProcessData import MakeTrainData\n",
    "from model.MSBERTModel import MSBERT\n",
    "from model.utils import ModelEmbed\n",
    "from scipy.spatial.distance import cosine"
   ]
  },
  {
   "cell_type": "code",
   "execution_count": 2,
   "id": "7ae74760",
   "metadata": {},
   "outputs": [],
   "source": [
    "def PlotExample(example_msms,idx):\n",
    "    plt.figure()\n",
    "    plt.vlines([float(i) for i in example_msms[idx][0]],0,example_msms[idx][1])\n",
    "    plt.hlines(0,0,max([float(i) for i in example_msms[idx][0]]))\n",
    "    plt.xlabel('m/z')\n",
    "    plt.ylabel('Intensity')"
   ]
  },
  {
   "cell_type": "markdown",
   "id": "f59cd583",
   "metadata": {},
   "source": [
    "# Load example data"
   ]
  },
  {
   "cell_type": "code",
   "execution_count": 3,
   "id": "754f59b7",
   "metadata": {},
   "outputs": [],
   "source": [
    "with open('example/example_msms.pickle', 'rb') as f:\n",
    "        example_msms = pickle.load(f)\n",
    "with open('example/example_precursor.pickle', 'rb') as f:\n",
    "    example_precursor= pickle.load(f)"
   ]
  },
  {
   "cell_type": "markdown",
   "id": "167c1a86",
   "metadata": {},
   "source": [
    "# Draw example mass spectrometry"
   ]
  },
  {
   "cell_type": "code",
   "execution_count": 4,
   "id": "328f9fd0",
   "metadata": {},
   "outputs": [
    {
     "data": {
      "image/png": "[encoded data removed]",
      "text/plain": [
       "<Figure size 432x288 with 1 Axes>"
      ]
     },
     "metadata": {
      "needs_background": "light"
     },
     "output_type": "display_data"
    }
   ],
   "source": [
    "PlotExample(example_msms,0)"
   ]
  },
  {
   "cell_type": "code",
   "execution_count": 5,
   "id": "73ee95d6",
   "metadata": {},
   "outputs": [
    {
     "data": {
      "image/png": "[encoded data removed]",
      "text/plain": [
       "<Figure size 432x288 with 1 Axes>"
      ]
     },
     "metadata": {
      "needs_background": "light"
     },
     "output_type": "display_data"
    }
   ],
   "source": [
    "PlotExample(example_msms,1)"
   ]
  },
  {
   "cell_type": "markdown",
   "id": "747f457d",
   "metadata": {},
   "source": [
    "# Building Training Data"
   ]
  },
  {
   "cell_type": "code",
   "execution_count": 7,
   "id": "596157e5",
   "metadata": {},
   "outputs": [],
   "source": [
    "example_data,word2idx= MakeTrainData(example_msms,example_precursor,100)"
   ]
  },
  {
   "cell_type": "markdown",
   "id": "100f927b",
   "metadata": {},
   "source": [
    "# Load MSBERT model"
   ]
  },
  {
   "cell_type": "code",
   "execution_count": 9,
   "id": "09cdaf78",
   "metadata": {},
   "outputs": [
    {
     "data": {
      "text/plain": [
       "<All keys matched successfully>"
      ]
     },
     "execution_count": 9,
     "metadata": {},
     "output_type": "execute_result"
    }
   ],
   "source": [
    "model_file = 'E:/MSBERT_model/1025/MSBERT.pkl'\n",
    "model = MSBERT(len(word2idx), 512, 6, 16, 0,100,3)\n",
    "model.load_state_dict(torch.load(model_file))"
   ]
  },
  {
   "cell_type": "markdown",
   "id": "1c8e71d9",
   "metadata": {},
   "source": [
    "# MSBERT embedding"
   ]
  },
  {
   "cell_type": "code",
   "execution_count": 10,
   "id": "7d20e59b",
   "metadata": {},
   "outputs": [
    {
     "name": "stderr",
     "output_type": "stream",
     "text": [
      "1it [00:01,  1.31s/it]\n"
     ]
    }
   ],
   "source": [
    "example_arr= ModelEmbed(model,example_data,2)"
   ]
  },
  {
   "cell_type": "markdown",
   "id": "96597318",
   "metadata": {},
   "source": [
    "# Calculate cosine similarity"
   ]
  },
  {
   "cell_type": "code",
   "execution_count": 11,
   "id": "ea3b2ec5",
   "metadata": {},
   "outputs": [
    {
     "name": "stdout",
     "output_type": "stream",
     "text": [
      "0.7960373014211655\n"
     ]
    }
   ],
   "source": [
    "cos = cosine(example_arr[0,:],example_arr[1,:])\n",
    "print(cos)"
   ]
  },
  {
   "cell_type": "code",
   "execution_count": null,
   "id": "9c79bbe0",
   "metadata": {},
   "outputs": [],
   "source": []
  }
 ],
 "metadata": {
  "kernelspec": {
   "display_name": "Python 3 (ipykernel)",
   "language": "python",
   "name": "python3"
  },
  "language_info": {
   "codemirror_mode": {
    "name": "ipython",
    "version": 3
   },
   "file_extension": ".py",
   "mimetype": "text/x-python",
   "name": "python",
   "nbconvert_exporter": "python",
   "pygments_lexer": "ipython3",
   "version": "3.9.12"
  }
 },
 "nbformat": 4,
 "nbformat_minor": 5
}
