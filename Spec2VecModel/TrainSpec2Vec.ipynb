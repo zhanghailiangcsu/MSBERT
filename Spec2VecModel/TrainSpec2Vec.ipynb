{
 "cells": [
  {
   "cell_type": "markdown",
   "id": "6d7d73e5",
   "metadata": {},
   "source": [
    "# Train Spec2Vec on GNPS dataset"
   ]
  },
  {
   "cell_type": "markdown",
   "id": "2a77d4e4",
   "metadata": {},
   "source": [
    "# import packages"
   ]
  },
  {
   "cell_type": "code",
   "execution_count": 1,
   "id": "9b6c5c41",
   "metadata": {},
   "outputs": [
    {
     "name": "stderr",
     "output_type": "stream",
     "text": [
      "C:\\Users\\Administrator\\Anaconda3\\envs\\FDNet\\lib\\site-packages\\paramiko\\transport.py:219: CryptographyDeprecationWarning: Blowfish has been deprecated\n",
      "  \"class\": algorithms.Blowfish,\n",
      "C:\\Users\\Administrator\\Anaconda3\\envs\\FDNet\\lib\\site-packages\\tqdm\\auto.py:22: TqdmWarning: IProgress not found. Please update jupyter and ipywidgets. See https://ipywidgets.readthedocs.io/en/stable/user_install.html\n",
      "  from .autonotebook import tqdm as notebook_tqdm\n"
     ]
    }
   ],
   "source": [
    "import os\n",
    "os.chdir('E:/github/MSBERT')\n",
    "os.environ['KMP_DUPLICATE_LIB_OK']='True'\n",
    "import pickle\n",
    "import numpy as np\n",
    "from tqdm import tqdm\n",
    "from matchms import Spectrum\n",
    "from matchms.filtering import normalize_intensities\n",
    "from spec2vec import SpectrumDocument,Document\n",
    "from spec2vec.model_building import train_new_word2vec_model\n",
    "import matplotlib.pyplot as plt\n",
    "import gensim\n",
    "from Spec2VecModel.spec2wordvector import spec_to_wordvector\n",
    "from spec2vec import Spec2Vec\n",
    "from matchms import calculate_scores\n",
    "from data.LoadGNPS import ProDataset\n",
    "from model.utils import  ParseOrbitrap"
   ]
  },
  {
   "cell_type": "code",
   "execution_count": 2,
   "id": "dd368711",
   "metadata": {},
   "outputs": [],
   "source": [
    "def gen_reference_documents(msms,n_decimals=2):\n",
    "    msms2 = [i for s in msms for i in s]\n",
    "    reference_documents = [SpectrumDocument(s, n_decimals=n_decimals) for s in msms2]\n",
    "    return reference_documents,msms2\n",
    "\n",
    "def parse_msms(msms):\n",
    "    msms_new = []\n",
    "    for ms in tqdm(msms):\n",
    "        mz = np.array([float(i[5:]) for i in ms[0]])\n",
    "        intensity = ms[1]\n",
    "        info = np.vstack((mz,intensity)).T\n",
    "        msms_new.append(info)\n",
    "    return msms_new\n",
    "\n",
    "def peak_embed(model_file,spectrums,n_decimals=2):\n",
    "    model = gensim.models.Word2Vec.load(model_file)\n",
    "    spectovec = spec_to_wordvector(model=model, intensity_weighting_power=0.5,allowed_missing_percentage=50)\n",
    "    word2vectors = []\n",
    "    for i in range(len(spectrums)):\n",
    "        spectrum_in = SpectrumDocument(spectrums[i], n_decimals=n_decimals)\n",
    "        vetors,_=spectovec._calculate_embedding(spectrum_in)\n",
    "        word2vectors.append(vetors)\n",
    "    return word2vectors\n",
    "\n",
    "def cal_spec2vec_top(reference_documents, query_spectrums,\n",
    "              spec2vec_similarity,dataset_smiles,query_smiles,batch=500):\n",
    "    top1 =[]\n",
    "    top5 = []\n",
    "    top10 = []\n",
    "    start = 0\n",
    "    while start < len(query_spectrums):\n",
    "        end = start+batch\n",
    "        q_i = query_spectrums[start:end]\n",
    "        scores = calculate_scores(reference_documents, q_i, spec2vec_similarity)\n",
    "        scores = scores.to_array()\n",
    "        sort = np.argsort(scores,axis = 0)\n",
    "        sort = np.flipud(sort)\n",
    "        for s in range(sort.shape[1]):\n",
    "            smi_q = query_smiles[(s+start)]\n",
    "            smi_dataset = [dataset_smiles[i] for i in sort[0:10,s]]\n",
    "            if smi_q in smi_dataset:\n",
    "                top10.append(1)\n",
    "            smi_dataset = [dataset_smiles[i] for i in sort[0:5,s]]\n",
    "            if smi_q in smi_dataset:\n",
    "                top5.append(1)\n",
    "            smi_dataset = [dataset_smiles[i] for i in sort[0:1,s]]\n",
    "            if smi_q in smi_dataset:\n",
    "                top1.append(1)\n",
    "        start += batch\n",
    "    top1 = len(top1)/len(query_smiles)\n",
    "    top5 = len(top5)/len(query_smiles)\n",
    "    top10 = len(top10)/len(query_smiles)\n",
    "    return [top1,top5,top10]\n",
    "\n",
    "def CalSpec2VecTop(Spec2vecModel,other_ref,other_query):\n",
    "    ref_documents,ref_spectrums = gen_reference_documents(other_ref,n_decimals=2)\n",
    "    query_documents,query_spectrums = gen_reference_documents(other_query,n_decimals=2)\n",
    "    spec2vec_similarity = Spec2Vec(model=Spec2vecModel, intensity_weighting_power=0.5,\n",
    "                               allowed_missing_percentage=20)\n",
    "    other_ref = ProDataset(other_ref,2,99)\n",
    "    other_query = ProDataset(other_query,2,99)\n",
    "    smiles1 = [i[0] for i in other_ref]\n",
    "    smiles2 = [i[0] for i in other_query]\n",
    "    Spec2VecOtherTop = cal_spec2vec_top(ref_documents, query_spectrums,\n",
    "                  spec2vec_similarity,smiles1,smiles2,batch=1000)\n",
    "    return Spec2VecOtherTop"
   ]
  },
  {
   "cell_type": "markdown",
   "id": "de732cd6",
   "metadata": {},
   "source": [
    "# Load train and test data"
   ]
  },
  {
   "cell_type": "code",
   "execution_count": 3,
   "id": "d3f21843",
   "metadata": {},
   "outputs": [
    {
     "name": "stderr",
     "output_type": "stream",
     "text": [
      "100%|████████████████████████████████████████████████████████████████████████| 122980/122980 [00:27<00:00, 4547.59it/s]\n",
      "100%|████████████████████████████████████████████████████████████████████████████| 6851/6851 [00:01<00:00, 3837.57it/s]\n",
      "100%|██████████████████████████████████████████████████████████████████████████| 32436/32436 [00:07<00:00, 4531.29it/s]\n",
      "100%|████████████████████████████████████████████████████████████████████████████| 1686/1686 [00:00<00:00, 3831.57it/s]\n"
     ]
    }
   ],
   "source": [
    "train_ref,msms1,precursor1,smiles1 = ParseOrbitrap('GNPSdata/ob_train_ref.pickle')\n",
    "train_query,msms2,precursor2,smiles2 =ParseOrbitrap('GNPSdata/ob_train_query.pickle')\n",
    "test_ref,msms3,precursor3,smiles3 = ParseOrbitrap('GNPSdata/ob_test_ref.pickle')\n",
    "test_query,msms4,precursor4,smiles4 = ParseOrbitrap('GNPSdata/ob_test_query.pickle')"
   ]
  },
  {
   "cell_type": "code",
   "execution_count": 4,
   "id": "c6770f84",
   "metadata": {},
   "outputs": [],
   "source": [
    "reference_documents,spectrums = gen_reference_documents(train_ref,n_decimals=2)"
   ]
  },
  {
   "cell_type": "markdown",
   "id": "c1b0fd72",
   "metadata": {},
   "source": [
    "# Train new Spec2vec model on GNPS dataset"
   ]
  },
  {
   "cell_type": "code",
   "execution_count": 5,
   "id": "1356910b",
   "metadata": {},
   "outputs": [
    {
     "name": "stdout",
     "output_type": "stream",
     "text": [
      "  Epoch 1 of 10.Change in loss after epoch 1: 759341.75\n",
      "  Epoch 2 of 10.Change in loss after epoch 2: 586930.875\n",
      "  Epoch 3 of 10.Change in loss after epoch 3: 470700.625\n",
      "  Epoch 4 of 10.Change in loss after epoch 4: 533147.75\n",
      "  Epoch 5 of 10.Change in loss after epoch 5: 403840.25\n",
      "  Epoch 6 of 10.Change in loss after epoch 6: 421704.0\n",
      "  Epoch 7 of 10.Change in loss after epoch 7: 349668.5\n",
      "  Epoch 8 of 10.Change in loss after epoch 8: 336849.25\n",
      "  Epoch 9 of 10.Change in loss after epoch 9: 313321.25\n",
      "  Epoch 10 of 10.Change in loss after epoch 10: 282082.75\n",
      "Saving model with name: Spec2VecModel/orbitrap_spec2vec.model\n"
     ]
    }
   ],
   "source": [
    "model_file = \"Spec2VecModel/orbitrap_spec2vec.model\"\n",
    "model = train_new_word2vec_model(reference_documents, iterations=10, \n",
    "                                  filename=model_file,vector_size=512,\n",
    "                                  workers=10, progress_logger=True)"
   ]
  },
  {
   "cell_type": "code",
   "execution_count": 6,
   "id": "0367bfa9",
   "metadata": {},
   "outputs": [],
   "source": [
    "query_documents,query_spectrums = gen_reference_documents(train_query,n_decimals=2)"
   ]
  },
  {
   "cell_type": "code",
   "execution_count": 7,
   "id": "33c4c7c9",
   "metadata": {},
   "outputs": [],
   "source": [
    "spec2vec_similarity = Spec2Vec(model=model, intensity_weighting_power=0.5,\n",
    "                               allowed_missing_percentage=10.0)"
   ]
  },
  {
   "cell_type": "markdown",
   "id": "ea26b94a",
   "metadata": {},
   "source": [
    "# Calculate performance of Spec2Vec"
   ]
  },
  {
   "cell_type": "code",
   "execution_count": 8,
   "id": "ddba60d3",
   "metadata": {},
   "outputs": [
    {
     "name": "stdout",
     "output_type": "stream",
     "text": [
      "2024-08-19 10:09:47,326:WARNING:spec2vec:vector_operations:('Missing percentage (16.02%) is above set maximum. An empty vector will be returned.', 'Consider retraining the used model or change the `allowed_missing_percentage`.')\n",
      "2024-08-19 10:09:47,341:WARNING:spec2vec:vector_operations:('Missing percentage (14.39%) is above set maximum. An empty vector will be returned.', 'Consider retraining the used model or change the `allowed_missing_percentage`.')\n",
      "2024-08-19 10:09:47,405:WARNING:spec2vec:vector_operations:('Missing percentage (28.27%) is above set maximum. An empty vector will be returned.', 'Consider retraining the used model or change the `allowed_missing_percentage`.')\n",
      "2024-08-19 10:10:21,463:WARNING:spec2vec:vector_operations:('Missing percentage (41.32%) is above set maximum. An empty vector will be returned.', 'Consider retraining the used model or change the `allowed_missing_percentage`.')\n",
      "2024-08-19 10:10:21,502:WARNING:spec2vec:vector_operations:('Missing percentage (18.96%) is above set maximum. An empty vector will be returned.', 'Consider retraining the used model or change the `allowed_missing_percentage`.')\n",
      "2024-08-19 10:10:21,533:WARNING:spec2vec:vector_operations:('Missing percentage (10.88%) is above set maximum. An empty vector will be returned.', 'Consider retraining the used model or change the `allowed_missing_percentage`.')\n",
      "2024-08-19 10:10:53,895:WARNING:spec2vec:vector_operations:('Missing percentage (12.47%) is above set maximum. An empty vector will be returned.', 'Consider retraining the used model or change the `allowed_missing_percentage`.')\n",
      "2024-08-19 10:10:54,068:WARNING:spec2vec:vector_operations:('Missing percentage (22.68%) is above set maximum. An empty vector will be returned.', 'Consider retraining the used model or change the `allowed_missing_percentage`.')\n",
      "2024-08-19 10:10:54,087:WARNING:spec2vec:vector_operations:('Missing percentage (10.64%) is above set maximum. An empty vector will be returned.', 'Consider retraining the used model or change the `allowed_missing_percentage`.')\n",
      "2024-08-19 10:12:02,552:WARNING:spec2vec:vector_operations:('Missing percentage (25.55%) is above set maximum. An empty vector will be returned.', 'Consider retraining the used model or change the `allowed_missing_percentage`.')\n",
      "2024-08-19 10:12:02,556:WARNING:spec2vec:vector_operations:('Missing percentage (10.40%) is above set maximum. An empty vector will be returned.', 'Consider retraining the used model or change the `allowed_missing_percentage`.')\n",
      "2024-08-19 10:12:02,566:WARNING:spec2vec:vector_operations:('Missing percentage (48.27%) is above set maximum. An empty vector will be returned.', 'Consider retraining the used model or change the `allowed_missing_percentage`.')\n",
      "2024-08-19 10:12:34,664:WARNING:spec2vec:vector_operations:('Missing percentage (20.38%) is above set maximum. An empty vector will be returned.', 'Consider retraining the used model or change the `allowed_missing_percentage`.')\n",
      "2024-08-19 10:12:34,691:WARNING:spec2vec:vector_operations:('Missing percentage (11.24%) is above set maximum. An empty vector will be returned.', 'Consider retraining the used model or change the `allowed_missing_percentage`.')\n",
      "2024-08-19 10:12:34,780:WARNING:spec2vec:vector_operations:('Missing percentage (10.19%) is above set maximum. An empty vector will be returned.', 'Consider retraining the used model or change the `allowed_missing_percentage`.')\n",
      "2024-08-19 10:12:34,818:WARNING:spec2vec:vector_operations:('Missing percentage (10.82%) is above set maximum. An empty vector will be returned.', 'Consider retraining the used model or change the `allowed_missing_percentage`.')\n",
      "2024-08-19 10:13:11,151:WARNING:spec2vec:vector_operations:('Missing percentage (12.39%) is above set maximum. An empty vector will be returned.', 'Consider retraining the used model or change the `allowed_missing_percentage`.')\n"
     ]
    }
   ],
   "source": [
    "spec2vec_top = cal_spec2vec_top(reference_documents, query_spectrums,\n",
    "                  spec2vec_similarity,smiles1,smiles2,batch=1000)"
   ]
  },
  {
   "cell_type": "code",
   "execution_count": 9,
   "id": "da9397d6",
   "metadata": {},
   "outputs": [
    {
     "name": "stdout",
     "output_type": "stream",
     "text": [
      "[0.6883666618011969, 0.8274704422712013, 0.8626477886439936]\n"
     ]
    }
   ],
   "source": [
    "print(spec2vec_top)"
   ]
  },
  {
   "cell_type": "code",
   "execution_count": null,
   "id": "9efd3ce7",
   "metadata": {},
   "outputs": [],
   "source": []
  }
 ],
 "metadata": {
  "kernelspec": {
   "display_name": "Python 3 (ipykernel)",
   "language": "python",
   "name": "python3"
  },
  "language_info": {
   "codemirror_mode": {
    "name": "ipython",
    "version": 3
   },
   "file_extension": ".py",
   "mimetype": "text/x-python",
   "name": "python",
   "nbconvert_exporter": "python",
   "pygments_lexer": "ipython3",
   "version": "3.9.12"
  }
 },
 "nbformat": 4,
 "nbformat_minor": 5
}
